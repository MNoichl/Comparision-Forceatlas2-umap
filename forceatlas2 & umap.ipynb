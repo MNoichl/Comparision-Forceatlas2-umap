{
 "cells": [
  {
   "cell_type": "code",
   "execution_count": 40,
   "metadata": {},
   "outputs": [
    {
     "name": "stdout",
     "output_type": "stream",
     "text": [
      "The rpy2.ipython extension is already loaded. To reload it, use:\n",
      "  %reload_ext rpy2.ipython\n"
     ]
    }
   ],
   "source": [
    "#standards\n",
    "import pandas as pd\n",
    "import numpy as np\n",
    "import matplotlib.pyplot as plt\n",
    "\n",
    "#metaknowledge to handle citation-data:\n",
    "import metaknowledge as mk\n",
    "\n",
    "#to build force-atlas networks:\n",
    "import networkx as nx\n",
    "from fa2 import ForceAtlas2\n",
    "import community\n",
    "from sklearn.cluster import SpectralClustering\n",
    "\n",
    "#umap, etc.:\n",
    "import umap\n",
    "from sklearn.decomposition import TruncatedSVD\n",
    "from sklearn.feature_extraction.text import TfidfVectorizer, CountVectorizer\n",
    "import scipy as scipy\n",
    "from scipy.sparse import coo_matrix, vstack\n",
    "from scipy.sparse import csr_matrix\n",
    "import re\n",
    "\n",
    "%load_ext rpy2.ipython\n",
    "\n",
    "\n",
    "#data"
   ]
  },
  {
   "cell_type": "code",
   "execution_count": 48,
   "metadata": {
    "collapsed": true
   },
   "outputs": [],
   "source": [
    "def create_network(record_collection):\n",
    "    \"This creates a citation network of the entered data and lays it out with the common force-atlas algorithm.\"\n",
    "    citations = RC.networkCitation(directed=False,nodeType = \"full\",fullInfo=True,nodeInfo=True,detailedCore=True,coreOnly=True)\n",
    "\n",
    "    citations = max(nx.connected_component_subgraphs(citations), key=len)\n",
    "    \n",
    "    adj_mat = nx.to_numpy_matrix(citations)\n",
    "    sc = SpectralClustering(8, affinity='precomputed', n_init=100, assign_labels='discretize')\n",
    "    sc.fit(adj_mat)\n",
    "    labels= sc.labels_.tolist()\n",
    "\n",
    "\n",
    "\n",
    "    forceatlas2 = ForceAtlas2(scalingRatio=10.0,strongGravityMode=True,verbose=False)\n",
    "    positions = forceatlas2.forceatlas2_networkx_layout(citations, pos=None, iterations=200)\n",
    "    return(citations, positions,labels)"
   ]
  },
  {
   "cell_type": "code",
   "execution_count": 100,
   "metadata": {
    "collapsed": true
   },
   "outputs": [],
   "source": [
    "def create_umap(record_collection):\n",
    "    d = []\n",
    "    e = []\n",
    "    for R in RC:\n",
    "        d.append(list(set(R.getCitations().get(\"citeString\")))) #To cluster by cited author\n",
    "        authors = list(set(R.getCitations().get(\"author\")))\n",
    "        authors = filter(None, authors)\n",
    "        f = []\n",
    "        for a in authors:\n",
    "            f.append(' '.join([w for w in a.split(' ')if len(w)>2]))        \n",
    "        authors = f#' '.join(f)\n",
    "        e.append(authors)\n",
    "\n",
    "    worklist = ['§'.join(filter(None,x)) for x in list(d)]\n",
    "    authorslist = [';'.join(filter(None,x)) for x in list(e)] \n",
    "\n",
    "    vec = TfidfVectorizer(token_pattern=r'(?<=[^|§])[\\s\\w,\\.:;]+(?=[$|§])')\n",
    "    Xrc = vec.fit_transform(worklist)\n",
    "\n",
    "    vecAu = CountVectorizer(token_pattern=r'(?<=[;])[\\s\\w]+(?=[;])',binary=True, min_df = 10)\n",
    "    XrcAu = vecAu.fit_transform(authorslist)\n",
    "\n",
    "    k = [Xrc]#XrcAu,\n",
    "    XrcFull = scipy.sparse.hstack(k).tocsr()\n",
    "\n",
    "\n",
    "\n",
    "    a = 0\n",
    "    # index by name:\n",
    "    for x in range(0,XrcFull.shape[0]): #Xrc.shape[0]):\n",
    "        if np.diff(XrcFull[x].tocsr().indptr) >= 4:\n",
    "            if a == 0:\n",
    "                k = [XrcFull[x]]\n",
    "            if a != 0:\n",
    "                k.append(XrcFull[x])\n",
    "            a = a+1\n",
    "\n",
    "    M = scipy.sparse.vstack((k))\n",
    "    SVD = TruncatedSVD(n_components=145, n_iter=7, random_state=42)\n",
    "\n",
    "    XSVD = SVD.fit_transform(M)\n",
    "    embedding = umap.UMAP(n_neighbors = 33,#small => local, large => global: 5-50\n",
    "                          min_dist = 0.005, #small => local, large => global: 0.001-0.5\n",
    "                          n_epochs = 700,\n",
    "                          init='random',\n",
    "                          spread = 2,\n",
    "                          metric='cosine').fit_transform(XSVD)\n",
    "    embedding = pd.DataFrame(embedding)\n",
    "    embedding.columns = ['x','y']\n",
    "    return(embedding)"
   ]
  },
  {
   "cell_type": "code",
   "execution_count": null,
   "metadata": {
    "collapsed": true
   },
   "outputs": [],
   "source": [
    "def create_umap_from_graph(citations):\n",
    "    \"Creates a umap embedding from the adjactency matrix of a graph\"\n",
    "    M = nx.to_numpy_matrix(citations)\n",
    "    SVD = TruncatedSVD(n_components=145, n_iter=7, random_state=42)\n",
    "    M = SVD.fit_transform(M)\n",
    "    embedding = umap.UMAP(n_neighbors = 17,#small => local, large => global: 5-50\n",
    "                          min_dist = 0.005, #small => local, large => global: 0.001-0.5\n",
    "                          n_epochs = 700,\n",
    "                          init='random',\n",
    "                          spread = 2,\n",
    "                          metric='cosine').fit_transform(M)\n",
    "    \n",
    "    embedding_adj = pd.DataFrame(embedding)\n",
    "    embedding_adj.columns = ['x','y']\n",
    "    return(embedding_adj)"
   ]
  },
  {
   "cell_type": "code",
   "execution_count": null,
   "metadata": {},
   "outputs": [
    {
     "name": "stderr",
     "output_type": "stream",
     "text": [
      "C:\\Users\\user\\Anaconda3\\lib\\site-packages\\umap_learn-0.3.3-py3.6.egg\\umap\\umap_.py:1031: RuntimeWarning: divide by zero encountered in power\n"
     ]
    },
    {
     "data": {
      "image/png": "[encoded data removed]",
      "text/plain": [
       "<matplotlib.figure.Figure at 0x1a2ba184710>"
      ]
     },
     "metadata": {},
     "output_type": "display_data"
    }
   ],
   "source": [
    "record_collections = [\"children_develop_computer\",\"phil_of_emotions\",\"theory_of_science\",\"general_philosophy\"]#\"theory_of_science\", \"general_philosophy\" \n",
    "for collection in record_collections:\n",
    "    RC = mk.RecordCollection(collection)\n",
    "    citations, positions, labels = create_network(RC)\n",
    "    embedding = create_umap(RC)\n",
    "    embedding_adj = create_umap_from_graph(citations)\n",
    "\n",
    "\n",
    "    plt.figure(figsize=(17,5))    #node_color='orange',\n",
    "    plt.suptitle(str(\"Dataset: \"+collection), fontsize=18)\n",
    "    plt.subplot(1, 3, 1)\n",
    "    nx.draw_networkx(citations, positions,  \n",
    "                     cmap=plt.cm.get_cmap('Dark2',8),\n",
    "                     node_color=labels,\n",
    "                     with_labels=False,  node_size=2, edge_color='white',\n",
    "                     linewidths=0.7, font_size=8)\n",
    "    plt.title(str(\"Force-Atlas 2, n = \"+str(citations.number_of_nodes())))\n",
    "    plt.subplot(1, 3, 2)\n",
    "    plt.scatter(embedding_adj['x'], embedding_adj['y'],\n",
    "                cmap=plt.cm.get_cmap('Dark2',8),\n",
    "                c=labels,s=1.7, alpha=0.5)\n",
    "    plt.title(str(\"UMAP of Adjacency Matrix, n = \"+str(citations.number_of_nodes())))\n",
    "    plt.subplot(1, 3, 3)\n",
    "    plt.scatter(embedding['x'], embedding['y'], c='orangered',s=1.7, alpha=0.5)\n",
    "    plt.title(str(\"UMAP on mixed data, n = \"+str(len(embedding))))\n",
    "    plt.show()"
   ]
  },
  {
   "cell_type": "code",
   "execution_count": null,
   "metadata": {},
   "outputs": [],
   "source": []
  },
  {
   "cell_type": "code",
   "execution_count": null,
   "metadata": {
    "collapsed": true
   },
   "outputs": [],
   "source": []
  }
 ],
 "metadata": {
  "kernelspec": {
   "display_name": "Python 3",
   "language": "python",
   "name": "python3"
  },
  "language_info": {
   "codemirror_mode": {
    "name": "ipython",
    "version": 3
   },
   "file_extension": ".py",
   "mimetype": "text/x-python",
   "name": "python",
   "nbconvert_exporter": "python",
   "pygments_lexer": "ipython3",
   "version": "3.6.3"
  }
 },
 "nbformat": 4,
 "nbformat_minor": 2
}
